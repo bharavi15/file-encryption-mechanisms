{
 "cells": [
  {
   "cell_type": "markdown",
   "metadata": {},
   "source": [
    "Initital setup"
   ]
  },
  {
   "cell_type": "code",
   "execution_count": null,
   "metadata": {},
   "outputs": [],
   "source": [
    "from PIL import Image\n",
    "import numpy as np\n",
    "import logging as log\n",
    "import time\n",
    "log.basicConfig(\n",
    "    format=\"%(asctime)s %(levelname)s: %(message)s\",\n",
    "    datefmt=\"%Y-%m-%dT%H:%M:%SZ\",\n",
    "    level=log.ERROR\n",
    ")\n",
    "EXTRA_DIFFUSE = True"
   ]
  },
  {
   "cell_type": "markdown",
   "metadata": {},
   "source": [
    "Utility Functions"
   ]
  },
  {
   "cell_type": "code",
   "execution_count": null,
   "metadata": {},
   "outputs": [],
   "source": [
    "def removeDuplicates(array):\n",
    "    '''\n",
    "    Removes duplicates from the given array\n",
    "    '''\n",
    "    newArr = []\n",
    "    for i in array:\n",
    "        if i not in newArr:\n",
    "            newArr.append(i)\n",
    "    return newArr\n",
    "def printMat(mat):\n",
    "    '''\n",
    "    Print matrix\n",
    "    '''\n",
    "    for m in mat:\n",
    "        print(m)\n",
    "def findLoc(mat,x):\n",
    "    '''\n",
    "    find the x and y coordinates of the given pixel\n",
    "    '''\n",
    "    coordinates = np.where(mat==x)\n",
    "    return [coordinates[0][0],coordinates[1][0]]"
   ]
  },
  {
   "cell_type": "markdown",
   "metadata": {},
   "source": [
    "Reading image and getting RGB values"
   ]
  },
  {
   "cell_type": "code",
   "execution_count": null,
   "metadata": {},
   "outputs": [],
   "source": [
    "def readRGB(filename,resize=False):\n",
    "    '''\n",
    "    Read image and return RGB representation\n",
    "    '''\n",
    "    img = Image.open(filename)\n",
    "    if resize:\n",
    "        size = 16,16\n",
    "        img = img.resize(size,Image.Resampling.LANCZOS)\n",
    "        img= img.convert('RGB')\n",
    "    numpydata = np.asarray(img)\n",
    "    R=[]\n",
    "    G=[]\n",
    "    B=[]\n",
    "    A=[]\n",
    "    for row in numpydata:\n",
    "        for pixel in row:\n",
    "            R.append(pixel[0])\n",
    "            G.append(pixel[1])\n",
    "            B.append(pixel[2])\n",
    "            try:\n",
    "                A.append(pixel[3])\n",
    "            except IndexError:\n",
    "                A.append(255)\n",
    "                pass\n",
    "    return (R,G,B,A,img.size)"
   ]
  },
  {
   "cell_type": "markdown",
   "metadata": {},
   "source": [
    "Key Matrix Generation"
   ]
  },
  {
   "cell_type": "code",
   "execution_count": null,
   "metadata": {},
   "outputs": [],
   "source": [
    "R,G,B,A,s=readRGB('key.png',True)\n",
    "R=removeDuplicates(R)\n",
    "G=removeDuplicates(G)\n",
    "B=removeDuplicates(B)\n",
    "R.extend([x for x in range(256) if x not in R])\n",
    "RkeyMatrix = np.reshape(R, (16,16))\n",
    "G.extend([x for x in range(256) if x not in G])\n",
    "GkeyMatrix = np.reshape(G, (16,16))\n",
    "B.extend([x for x in range(256) if x not in B])\n",
    "BkeyMatrix = np.reshape(B, (16,16))\n",
    "log.debug('R key matrix:')\n",
    "log.debug(RkeyMatrix)\n",
    "log.debug('G key matrix:')\n",
    "log.debug(GkeyMatrix)\n",
    "log.debug('B key matrix:')\n",
    "log.debug(BkeyMatrix)\n",
    "F = removeDuplicates([(int(R[i])+int(G[i])+int(B[i]))%256 for i in range(256)])\n",
    "# for i in range(256):\n",
    "#     s = \n",
    "#     if s not in F: \n",
    "#         F.append(s)\n",
    "F.extend([x for x in range(256) if x not in F])\n",
    "FinalKeyMatrix = np.reshape(F, (16,16))"
   ]
  },
  {
   "cell_type": "markdown",
   "metadata": {},
   "source": [
    "Encryption or Decryption of two pixels"
   ]
  },
  {
   "cell_type": "code",
   "execution_count": null,
   "metadata": {},
   "outputs": [],
   "source": [
    "def encryptDecryptPixel(encryptResult,i,halfLength,colorKeyMatrix,color,isEncryption=True):\n",
    "    '''\n",
    "    Encrypt/Decrypt the pixel data based on the Key Matrix\n",
    "    '''\n",
    "    floc = findLoc(colorKeyMatrix,color[i])\n",
    "    sloc = findLoc(colorKeyMatrix,color[halfLength+i])\n",
    "    if isEncryption:\n",
    "        if EXTRA_DIFFUSE:\n",
    "            floc[0]=(floc[0]+9)%16\n",
    "            floc[1]=(floc[1]+9)%16\n",
    "            sloc[0]=(sloc[0]+9)%16\n",
    "            sloc[1]=(sloc[1]+9)%16\n",
    "        if floc[0] == sloc[0]:\n",
    "            encryptResult[i]=colorKeyMatrix[floc[0],(floc[1]+1)%16]\n",
    "            encryptResult[halfLength+i] = colorKeyMatrix[sloc[0],(sloc[1]+1)%16]\n",
    "        elif floc[1] == sloc[1]:\n",
    "            encryptResult[i]=colorKeyMatrix[(floc[0]+1)%16,floc[1]]\n",
    "            encryptResult[halfLength+i] = colorKeyMatrix[(sloc[0]+1)%16,sloc[1]]\n",
    "        else:\n",
    "            encryptResult[i]=colorKeyMatrix[floc[0],sloc[1]]\n",
    "            encryptResult[halfLength+i] = colorKeyMatrix[sloc[0],floc[1]]\n",
    "    else:\n",
    "        if EXTRA_DIFFUSE:\n",
    "            floc[0]=(floc[0]+7)%16\n",
    "            floc[1]=(floc[1]+7)%16\n",
    "            sloc[0]=(sloc[0]+7)%16\n",
    "            sloc[1]=(sloc[1]+7)%16\n",
    "        if floc[0] == sloc[0]:\n",
    "            encryptResult[i]=colorKeyMatrix[floc[0],(floc[1]+15)%16]\n",
    "            encryptResult[halfLength+i] = colorKeyMatrix[sloc[0],(sloc[1]+15)%16]\n",
    "        elif floc[1] == sloc[1]:\n",
    "            encryptResult[i]=colorKeyMatrix[(floc[0]+15)%16,floc[1]]\n",
    "            encryptResult[halfLength+i] = colorKeyMatrix[(sloc[0]+15)%16,sloc[1]]\n",
    "        else:\n",
    "            encryptResult[i]=colorKeyMatrix[floc[0],sloc[1]]\n",
    "            encryptResult[halfLength+i] = colorKeyMatrix[sloc[0],floc[1]]\n"
   ]
  },
  {
   "cell_type": "markdown",
   "metadata": {},
   "source": [
    "Encryption Function"
   ]
  },
  {
   "cell_type": "code",
   "execution_count": null,
   "metadata": {},
   "outputs": [],
   "source": [
    "def encrypt():\n",
    "    '''\n",
    "    Accept image to be encrypted and return the encrypted image based on the key\n",
    "    '''\n",
    "    inp = input(\"Enter image file name to encrypt= \")\n",
    "    R,G,B,A,sizes=readRGB(inp,False)\n",
    "    #R,G,B,A,sizes=readRGB('download.png',False)\n",
    "    log.info(sizes)\n",
    "    encryptedR=np.full(len(R),-1)\n",
    "    encryptedG=np.full(len(G),-1)\n",
    "    encryptedB=np.full(len(B),-1)\n",
    "    log.info(encryptedR.shape)\n",
    "    halfLength = len(R)//2\n",
    "    for i in range(halfLength):\n",
    "    #   encryptDecryptPixel(encryptedR,i,halfLength,BkeyMatrix,R)\n",
    "        encryptDecryptPixel(encryptedR,i,halfLength,FinalKeyMatrix,R)\n",
    "        encryptDecryptPixel(encryptedG,i,halfLength,FinalKeyMatrix,G)\n",
    "        encryptDecryptPixel(encryptedB,i,halfLength,FinalKeyMatrix,B)\n",
    "    #    encryptDecryptPixel(encryptedB,i,halfLength,GkeyMatrix,B)\n",
    "    fullImage1D=[]\n",
    "    log.debug(f'encryption {R=}')\n",
    "    log.debug(f'{encryptedR=}')\n",
    "    log.debug(f'encryption {G=}')\n",
    "    log.debug(f'encryption {B=}')\n",
    "    log.debug(f'encryption {A=}')\n",
    "    for i in range(len(encryptedR)):\n",
    "        fullImage1D.append([encryptedR[i],encryptedG[i],encryptedB[i],A[i]])\n",
    "    # print(fullImage1D)\n",
    "    x,y,z=sizes[0],sizes[1],4\n",
    "    imageArr = np.reshape(fullImage1D,(y,x,z))\n",
    "    # print(f'{imageArr=}')\n",
    "    image = Image.fromarray(imageArr.astype('uint8'),'RGBA')\n",
    "    # print(np.asarray(image))\n",
    "    image.save('enc.png')"
   ]
  },
  {
   "cell_type": "markdown",
   "metadata": {},
   "source": [
    "Decryption Function"
   ]
  },
  {
   "cell_type": "code",
   "execution_count": null,
   "metadata": {},
   "outputs": [],
   "source": [
    "def decrypt():\n",
    "    '''\n",
    "    Accept image to be decrypted and return the decrypted image based on the key\n",
    "    '''\n",
    "    inp = input(\"Enter image file name to decrypt= \")\n",
    "    R,G,B,A,sizes=readRGB(inp,False)\n",
    "    # R,G,B,A,sizes=readRGB('enc.png',False)\n",
    "    decryptedR=np.full(len(R),-1)\n",
    "    decryptedG=np.full(len(G),-1)\n",
    "    decryptedB=np.full(len(B),-1)\n",
    "    halfLength = len(R)//2\n",
    "    for i in range(halfLength):\n",
    "        #encryptDecryptPixel(decryptedR,i,halfLength,BkeyMatrix,R,False)\n",
    "        encryptDecryptPixel(decryptedR,i,halfLength,FinalKeyMatrix,R,False)\n",
    "        encryptDecryptPixel(decryptedG,i,halfLength,FinalKeyMatrix,G,False)\n",
    "        encryptDecryptPixel(decryptedB,i,halfLength,FinalKeyMatrix,B,False)\n",
    "        #encryptDecryptPixel(decryptedB,i,halfLength,GkeyMatrix,B,False)\n",
    "    fullImage1D=[]\n",
    "    log.debug(f'decryption {R=}')\n",
    "    log.debug(f'{decryptedR=}')\n",
    "    log.debug(f'decryption {G=}')\n",
    "    log.debug(f'decryption {B=}')\n",
    "    log.debug(f'decryption {A=}')\n",
    "    for i in range(len(decryptedR)):\n",
    "        fullImage1D.append([decryptedR[i],decryptedG[i],decryptedB[i],A[i]])\n",
    "    # print(\"fullImage1D:\",len(fullImage1D))\n",
    "    x,y,z=sizes[0],sizes[1],4\n",
    "    imageArr = np.reshape(fullImage1D,(y,x,z))\n",
    "    image = Image.fromarray(imageArr.astype('uint8'),'RGBA')\n",
    "    image.save('original.png')"
   ]
  },
  {
   "cell_type": "markdown",
   "metadata": {},
   "source": [
    "Driver code"
   ]
  },
  {
   "cell_type": "code",
   "execution_count": null,
   "metadata": {},
   "outputs": [],
   "source": [
    "encrypt()\n",
    "print('Encrypt successful')\n",
    "time.sleep(2)\n",
    "decrypt()\n",
    "print('Decrypt successful')"
   ]
  }
 ],
 "metadata": {
  "kernelspec": {
   "display_name": "Python 3.10.2 64-bit",
   "language": "python",
   "name": "python3"
  },
  "language_info": {
   "codemirror_mode": {
    "name": "ipython",
    "version": 3
   },
   "file_extension": ".py",
   "mimetype": "text/x-python",
   "name": "python",
   "nbconvert_exporter": "python",
   "pygments_lexer": "ipython3",
   "version": "3.10.2"
  },
  "orig_nbformat": 4,
  "vscode": {
   "interpreter": {
    "hash": "2ca6819a7b235a9e9923d27ebe966cb7261666ab2e4abf79b2eb7e1de2b3fef6"
   }
  }
 },
 "nbformat": 4,
 "nbformat_minor": 2
}
